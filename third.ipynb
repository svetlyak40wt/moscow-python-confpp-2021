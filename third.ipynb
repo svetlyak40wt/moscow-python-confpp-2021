{
 "cells": [
  {
   "cell_type": "markdown",
   "id": "5a3dbaba",
   "metadata": {},
   "source": [
    "## Представление объектов"
   ]
  },
  {
   "cell_type": "code",
   "execution_count": 1,
   "id": "07b3060d",
   "metadata": {},
   "outputs": [],
   "source": [
    "from dataclasses import dataclass\n",
    "\n",
    "@dataclass\n",
    "class Person:\n",
    "    name: str\n",
    "    email: str\n",
    "    avatar: str"
   ]
  },
  {
   "cell_type": "code",
   "execution_count": 2,
   "id": "6611903d",
   "metadata": {},
   "outputs": [
    {
     "data": {
      "text/plain": [
       "Person(name='Bob', email='bob@gmail.com', avatar='http://placekitten.com/300/300')"
      ]
     },
     "execution_count": 2,
     "metadata": {},
     "output_type": "execute_result"
    }
   ],
   "source": [
    "Person(\n",
    "    name='Bob',\n",
    "    email='bob@gmail.com',\n",
    "    avatar='http://placekitten.com/300/300',\n",
    ")"
   ]
  },
  {
   "cell_type": "code",
   "execution_count": 3,
   "id": "99796a37",
   "metadata": {},
   "outputs": [],
   "source": [
    "@dataclass\n",
    "class Person:\n",
    "    name: str\n",
    "    email: str\n",
    "    avatar: str\n",
    "        \n",
    "    def _repr_html_(self):\n",
    "        return f\"\"\"\n",
    "        <h1>{self.name}</h1>\n",
    "        <p><a href=\"mailto:{self.email}\">{self.email}</a>\n",
    "        <p><img src=\"{self.avatar}\"/>\n",
    "        \"\"\""
   ]
  },
  {
   "cell_type": "code",
   "execution_count": 4,
   "id": "888f8eca",
   "metadata": {},
   "outputs": [
    {
     "data": {
      "text/html": [
       "\n",
       "        <h1>Bob</h1>\n",
       "        <p><a href=\"mailto:bob@gmail.com\">bob@gmail.com</a>\n",
       "        <p><img src=\"http://placekitten.com/300/300\"/>\n",
       "        "
      ],
      "text/plain": [
       "Person(name='Bob', email='bob@gmail.com', avatar='http://placekitten.com/300/300')"
      ]
     },
     "execution_count": 4,
     "metadata": {},
     "output_type": "execute_result"
    }
   ],
   "source": [
    "Person(\n",
    "    name='Bob',\n",
    "    email='bob@gmail.com',\n",
    "    avatar='http://placekitten.com/300/300',\n",
    ")"
   ]
  },
  {
   "cell_type": "markdown",
   "id": "3e012124",
   "metadata": {},
   "source": [
    "## Чужие объекты"
   ]
  },
  {
   "cell_type": "code",
   "execution_count": 5,
   "id": "3c7e41e9",
   "metadata": {},
   "outputs": [],
   "source": [
    "import requests"
   ]
  },
  {
   "cell_type": "code",
   "execution_count": 6,
   "id": "9b0f1e53",
   "metadata": {},
   "outputs": [
    {
     "data": {
      "text/plain": [
       "<Response [200]>"
      ]
     },
     "execution_count": 6,
     "metadata": {},
     "output_type": "execute_result"
    }
   ],
   "source": [
    "requests.get('https://httpbin.org/json')"
   ]
  },
  {
   "cell_type": "code",
   "execution_count": 7,
   "id": "ac485cf4",
   "metadata": {},
   "outputs": [
    {
     "data": {
      "text/plain": [
       "<Response [200]>"
      ]
     },
     "execution_count": 7,
     "metadata": {},
     "output_type": "execute_result"
    }
   ],
   "source": [
    "requests.get('https://httpbin.org/image/png')"
   ]
  },
  {
   "cell_type": "code",
   "execution_count": 8,
   "id": "125ff377",
   "metadata": {},
   "outputs": [],
   "source": [
    "import io\n",
    "import base64\n",
    "\n",
    "def format_headers(headers):\n",
    "    output = io.StringIO()\n",
    "    output.write('<dl>')\n",
    "    for key, value in sorted(headers.items()):\n",
    "        output.write(f'<dt>{key}</dt>')\n",
    "        output.write(f'<dd>{value}</dd>')\n",
    "    output.write('</dl>')\n",
    "\n",
    "    return output.getvalue()"
   ]
  },
  {
   "cell_type": "code",
   "execution_count": 9,
   "id": "3c2a0330",
   "metadata": {},
   "outputs": [],
   "source": [
    "def format_response(response):\n",
    "    headers = response.headers\n",
    "    content = response.content\n",
    "\n",
    "    content_type = response.headers['content-type']\n",
    "\n",
    "    if content_type == 'application/json':\n",
    "        content = content.decode('utf-8')\n",
    "        content = f'<pre><code>{content}</code></pre>'\n",
    "\n",
    "    return f\"\"\"<h1>HTTP Response ({content_type})</h1>\n",
    "               <table width=\"100%\">\n",
    "                 <tr>\n",
    "                   <td style=\"text-align: left\">\n",
    "                     <h2>{response.status_code}</h2>\n",
    "                     <h3>Headers</h3>\n",
    "                     {format_headers(headers)}\n",
    "                   </td>\n",
    "                   <td style=\"text-align: left\">\n",
    "                     <h3>Content</h3>\n",
    "                     {content}\n",
    "                   </td>\n",
    "                  </tr>\n",
    "                </table>\n",
    "            \"\"\""
   ]
  },
  {
   "cell_type": "code",
   "execution_count": 10,
   "id": "ee8c2cc0",
   "metadata": {},
   "outputs": [],
   "source": [
    "shell = get_ipython()\n",
    "formatter = shell.display_formatter.formatters['text/html']\n",
    "formatter.for_type(requests.Response, format_response)"
   ]
  },
  {
   "cell_type": "code",
   "execution_count": 11,
   "id": "9fb1f1a6",
   "metadata": {},
   "outputs": [
    {
     "data": {
      "text/html": [
       "<h1>HTTP Response (application/json)</h1>\n",
       "               <table width=\"100%\">\n",
       "                 <tr>\n",
       "                   <td style=\"text-align: left\">\n",
       "                     <h2>200</h2>\n",
       "                     <h3>Headers</h3>\n",
       "                     <dl><dt>Access-Control-Allow-Credentials</dt><dd>true</dd><dt>Access-Control-Allow-Origin</dt><dd>*</dd><dt>Connection</dt><dd>keep-alive</dd><dt>Content-Length</dt><dd>429</dd><dt>Content-Type</dt><dd>application/json</dd><dt>Date</dt><dd>Mon, 20 Sep 2021 07:57:17 GMT</dd><dt>Server</dt><dd>gunicorn/19.9.0</dd></dl>\n",
       "                   </td>\n",
       "                   <td style=\"text-align: left\">\n",
       "                     <h3>Content</h3>\n",
       "                     <pre><code>{\n",
       "  \"slideshow\": {\n",
       "    \"author\": \"Yours Truly\", \n",
       "    \"date\": \"date of publication\", \n",
       "    \"slides\": [\n",
       "      {\n",
       "        \"title\": \"Wake up to WonderWidgets!\", \n",
       "        \"type\": \"all\"\n",
       "      }, \n",
       "      {\n",
       "        \"items\": [\n",
       "          \"Why <em>WonderWidgets</em> are great\", \n",
       "          \"Who <em>buys</em> WonderWidgets\"\n",
       "        ], \n",
       "        \"title\": \"Overview\", \n",
       "        \"type\": \"all\"\n",
       "      }\n",
       "    ], \n",
       "    \"title\": \"Sample Slide Show\"\n",
       "  }\n",
       "}\n",
       "</code></pre>\n",
       "                   </td>\n",
       "                  </tr>\n",
       "                </table>\n",
       "            "
      ],
      "text/plain": [
       "<Response [200]>"
      ]
     },
     "execution_count": 11,
     "metadata": {},
     "output_type": "execute_result"
    }
   ],
   "source": [
    "requests.get('https://httpbin.org/json')"
   ]
  },
  {
   "cell_type": "code",
   "execution_count": 12,
   "id": "fbc0216b",
   "metadata": {},
   "outputs": [],
   "source": [
    "def format_response(response):\n",
    "    headers = response.headers\n",
    "    content = response.content\n",
    "\n",
    "    content_type = response.headers['content-type']\n",
    "\n",
    "    if content_type == 'application/json':\n",
    "        content = content.decode('utf-8')\n",
    "        content = f'<pre><code>{content}</code></pre>'\n",
    "    elif content_type.startswith('image/'):\n",
    "        data = base64.b64encode(content).decode('ascii')\n",
    "        content = f'<img src=\"data:{content_type};base64,{data}\" width=200/>'\n",
    "\n",
    "    return f\"\"\"<h1>HTTP Response ({content_type})</h1>\n",
    "               <table width=\"100%\">\n",
    "                 <tr style=\"vertical-align: top\">\n",
    "                   <td style=\"text-align: left; vertical-align: top;\">\n",
    "                     <h2>{response.status_code}</h2>\n",
    "                     <h3>Headers</h3>\n",
    "                     {format_headers(headers)}\n",
    "                   </td>\n",
    "                   <td style=\"text-align: left; vertical-align: top;\">\n",
    "                     <h3>Content</h3>\n",
    "                     {content}\n",
    "                   </td>\n",
    "                  </tr>\n",
    "                </table>\n",
    "            \"\"\""
   ]
  },
  {
   "cell_type": "code",
   "execution_count": 13,
   "id": "1e286e83",
   "metadata": {},
   "outputs": [
    {
     "data": {
      "text/plain": [
       "<function __main__.format_response(response)>"
      ]
     },
     "execution_count": 13,
     "metadata": {},
     "output_type": "execute_result"
    }
   ],
   "source": [
    "shell = get_ipython()\n",
    "formatter = shell.display_formatter.formatters['text/html']\n",
    "formatter.for_type(requests.Response, format_response)"
   ]
  },
  {
   "cell_type": "code",
   "execution_count": 14,
   "id": "4dc59c2a",
   "metadata": {},
   "outputs": [
    {
     "data": {
      "text/html": [
       "<h1>HTTP Response (image/svg+xml)</h1>\n",
       "               <table width=\"100%\">\n",
       "                 <tr style=\"vertical-align: top\">\n",
       "                   <td style=\"text-align: left; vertical-align: top;\">\n",
       "                     <h2>200</h2>\n",
       "                     <h3>Headers</h3>\n",
       "                     <dl><dt>Access-Control-Allow-Credentials</dt><dd>true</dd><dt>Access-Control-Allow-Origin</dt><dd>*</dd><dt>Connection</dt><dd>keep-alive</dd><dt>Content-Length</dt><dd>8984</dd><dt>Content-Type</dt><dd>image/svg+xml</dd><dt>Date</dt><dd>Mon, 20 Sep 2021 07:57:38 GMT</dd><dt>Server</dt><dd>gunicorn/19.9.0</dd></dl>\n",
       "                   </td>\n",
       "                   <td style=\"text-align: left; vertical-align: top;\">\n",
       "                     <h3>Content</h3>\n",
       "                     <img src=\"data:image/svg+xml;base64,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\" width=200/>\n",
       "                   </td>\n",
       "                  </tr>\n",
       "                </table>\n",
       "            "
      ],
      "text/plain": [
       "<Response [200]>"
      ]
     },
     "execution_count": 14,
     "metadata": {},
     "output_type": "execute_result"
    }
   ],
   "source": [
    "requests.get('https://httpbin.org/image/svg')"
   ]
  },
  {
   "cell_type": "code",
   "execution_count": null,
   "id": "b0887bbb",
   "metadata": {},
   "outputs": [],
   "source": []
  }
 ],
 "metadata": {
  "@webio": {
   "lastCommId": null,
   "lastKernelId": null
  },
  "kernelspec": {
   "display_name": "Python 3 (ipykernel)",
   "language": "python",
   "name": "python3"
  },
  "language_info": {
   "codemirror_mode": {
    "name": "ipython",
    "version": 3
   },
   "file_extension": ".py",
   "mimetype": "text/x-python",
   "name": "python",
   "nbconvert_exporter": "python",
   "pygments_lexer": "ipython3",
   "version": "3.9.7"
  }
 },
 "nbformat": 4,
 "nbformat_minor": 5
}

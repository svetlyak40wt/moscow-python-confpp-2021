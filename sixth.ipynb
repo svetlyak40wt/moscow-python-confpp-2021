{
 "cells": [
  {
   "cell_type": "code",
   "execution_count": 1,
   "id": "90084fbd",
   "metadata": {},
   "outputs": [],
   "source": [
    "import logging"
   ]
  },
  {
   "cell_type": "code",
   "execution_count": 2,
   "id": "2f0bdddc",
   "metadata": {},
   "outputs": [],
   "source": [
    "logging.info('Hello World')"
   ]
  },
  {
   "cell_type": "code",
   "execution_count": 3,
   "id": "34d3cec7",
   "metadata": {},
   "outputs": [],
   "source": [
    "%info"
   ]
  },
  {
   "cell_type": "code",
   "execution_count": 4,
   "id": "3881de9c",
   "metadata": {},
   "outputs": [
    {
     "name": "stderr",
     "output_type": "stream",
     "text": [
      "INFO [root]: Hello World\n"
     ]
    }
   ],
   "source": [
    "logging.info('Hello World')"
   ]
  }
 ],
 "metadata": {
  "@webio": {
   "lastCommId": null,
   "lastKernelId": null
  },
  "kernelspec": {
   "display_name": "Moscow Python Conf 2021",
   "language": "python",
   "name": "custom-kernel"
  },
  "language_info": {
   "codemirror_mode": {
    "name": "ipython",
    "version": 3
   },
   "file_extension": ".py",
   "mimetype": "text/x-python",
   "name": "python",
   "nbconvert_exporter": "python",
   "pygments_lexer": "ipython3",
   "version": "3.9.5"
  }
 },
 "nbformat": 4,
 "nbformat_minor": 5
}

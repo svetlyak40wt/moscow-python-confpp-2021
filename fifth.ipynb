{
 "cells": [
  {
   "cell_type": "code",
   "execution_count": 1,
   "id": "8ff41e91",
   "metadata": {},
   "outputs": [],
   "source": [
    "import time\n",
    "from datetime import datetime\n",
    "from IPython.display import HTML, display"
   ]
  },
  {
   "cell_type": "code",
   "execution_count": 2,
   "id": "66029111",
   "metadata": {},
   "outputs": [],
   "source": [
    "def log(msg, level='info'):\n",
    "    color = 'green' if level == 'info' else 'red'\n",
    "    time = datetime.utcnow().strftime('%H:%M:%S')\n",
    "    code = (\n",
    "        f'{time} '\n",
    "        f'<span style=\"color: {color}\">{level.upper()}</span>: '\n",
    "        f'{msg}'\n",
    "    )\n",
    "    line = HTML(code)\n",
    "    display(line)"
   ]
  },
  {
   "cell_type": "code",
   "execution_count": 3,
   "id": "58540145",
   "metadata": {},
   "outputs": [
    {
     "data": {
      "text/html": [
       "15:02:55 <span style=\"color: green\">INFO</span>: Line 7"
      ],
      "text/plain": [
       "<IPython.core.display.HTML object>"
      ]
     },
     "metadata": {},
     "output_type": "display_data"
    },
    {
     "data": {
      "text/html": [
       "15:02:55 <span style=\"color: green\">INFO</span>: Line 6"
      ],
      "text/plain": [
       "<IPython.core.display.HTML object>"
      ]
     },
     "metadata": {},
     "output_type": "display_data"
    },
    {
     "data": {
      "text/html": [
       "15:02:56 <span style=\"color: green\">INFO</span>: Line 5"
      ],
      "text/plain": [
       "<IPython.core.display.HTML object>"
      ]
     },
     "metadata": {},
     "output_type": "display_data"
    },
    {
     "data": {
      "text/html": [
       "15:02:56 <span style=\"color: green\">INFO</span>: Line 4"
      ],
      "text/plain": [
       "<IPython.core.display.HTML object>"
      ]
     },
     "metadata": {},
     "output_type": "display_data"
    },
    {
     "data": {
      "text/html": [
       "15:02:57 <span style=\"color: red\">ERROR</span>: Line 3"
      ],
      "text/plain": [
       "<IPython.core.display.HTML object>"
      ]
     },
     "metadata": {},
     "output_type": "display_data"
    },
    {
     "data": {
      "text/html": [
       "15:02:57 <span style=\"color: red\">ERROR</span>: Line 2"
      ],
      "text/plain": [
       "<IPython.core.display.HTML object>"
      ]
     },
     "metadata": {},
     "output_type": "display_data"
    },
    {
     "data": {
      "text/html": [
       "15:02:58 <span style=\"color: red\">ERROR</span>: Line 1"
      ],
      "text/plain": [
       "<IPython.core.display.HTML object>"
      ]
     },
     "metadata": {},
     "output_type": "display_data"
    },
    {
     "data": {
      "text/plain": [
       "'Результат ячейки'"
      ]
     },
     "execution_count": 3,
     "metadata": {},
     "output_type": "execute_result"
    }
   ],
   "source": [
    "for iteration in range(7, 0, -1):\n",
    "    level = 'info' if iteration > 3 else 'error'\n",
    "    log(f'Line {iteration}', level=level)\n",
    "    time.sleep(0.5)\n",
    "    \n",
    "\"Результат ячейки\""
   ]
  },
  {
   "cell_type": "code",
   "execution_count": 4,
   "id": "67304057",
   "metadata": {},
   "outputs": [
    {
     "name": "stdout",
     "output_type": "stream",
     "text": [
      "Loading \"fifth\" extension\n"
     ]
    }
   ],
   "source": [
    "%load_ext fifth"
   ]
  },
  {
   "cell_type": "code",
   "execution_count": 5,
   "id": "8bcb7227",
   "metadata": {},
   "outputs": [
    {
     "data": {
      "text/html": [
       "New threads: <b>Test Thread 0</b>"
      ],
      "text/plain": [
       "<IPython.core.display.HTML object>"
      ]
     },
     "metadata": {},
     "output_type": "display_data"
    },
    {
     "data": {
      "text/html": [
       "New threads: <b>Test Thread 1</b>"
      ],
      "text/plain": [
       "<IPython.core.display.HTML object>"
      ]
     },
     "metadata": {},
     "output_type": "display_data"
    },
    {
     "data": {
      "text/html": [
       "New threads: <b>Test Thread 2</b>, <b>Test Thread 3</b>"
      ],
      "text/plain": [
       "<IPython.core.display.HTML object>"
      ]
     },
     "metadata": {},
     "output_type": "display_data"
    },
    {
     "data": {
      "text/html": [
       "New threads: <b>Test Thread 4</b>"
      ],
      "text/plain": [
       "<IPython.core.display.HTML object>"
      ]
     },
     "metadata": {},
     "output_type": "display_data"
    },
    {
     "data": {
      "text/plain": [
       "'DONE'"
      ]
     },
     "execution_count": 5,
     "metadata": {},
     "output_type": "execute_result"
    }
   ],
   "source": [
    "import threading\n",
    "import random\n",
    "\n",
    "def worker():\n",
    "    time.sleep(1)\n",
    "\n",
    "threads = []\n",
    "\n",
    "for i in range(5):\n",
    "    time.sleep(random.random())\n",
    "    thread = threading.Thread(target=worker, name=f'Test Thread {i}')\n",
    "    threads.append(thread)\n",
    "    thread.start()\n",
    "    \n",
    "for thread in threads:\n",
    "    thread.join()\n",
    "    \n",
    "\"DONE\""
   ]
  }
 ],
 "metadata": {
  "@webio": {
   "lastCommId": null,
   "lastKernelId": null
  },
  "kernelspec": {
   "display_name": "Python 3 (ipykernel)",
   "language": "python",
   "name": "python3"
  },
  "language_info": {
   "codemirror_mode": {
    "name": "ipython",
    "version": 3
   },
   "file_extension": ".py",
   "mimetype": "text/x-python",
   "name": "python",
   "nbconvert_exporter": "python",
   "pygments_lexer": "ipython3",
   "version": "3.9.5"
  }
 },
 "nbformat": 4,
 "nbformat_minor": 5
}

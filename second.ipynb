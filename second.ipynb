{
 "cells": [
  {
   "cell_type": "code",
   "execution_count": 1,
   "id": "cb7f1e04",
   "metadata": {
    "scrolled": true
   },
   "outputs": [
    {
     "name": "stdout",
     "output_type": "stream",
     "text": [
      "Loading \"second\" extension\n"
     ]
    }
   ],
   "source": [
    "%load_ext second"
   ]
  },
  {
   "cell_type": "code",
   "execution_count": 2,
   "id": "79a9cc0b",
   "metadata": {},
   "outputs": [],
   "source": [
    "import logging"
   ]
  },
  {
   "cell_type": "code",
   "execution_count": 3,
   "id": "a2512ad9",
   "metadata": {},
   "outputs": [],
   "source": [
    "logger = logging.getLogger()"
   ]
  },
  {
   "cell_type": "code",
   "execution_count": 4,
   "id": "d9af3c23",
   "metadata": {},
   "outputs": [],
   "source": [
    "logger.info('Blah')"
   ]
  },
  {
   "cell_type": "code",
   "execution_count": 5,
   "id": "74215665",
   "metadata": {
    "scrolled": true
   },
   "outputs": [
    {
     "name": "stderr",
     "output_type": "stream",
     "text": [
      "ERROR [root]: Minor\n"
     ]
    }
   ],
   "source": [
    "logger.error('Minor')"
   ]
  },
  {
   "cell_type": "markdown",
   "id": "ed5e1ff6",
   "metadata": {},
   "source": [
    "Установим уровень INFO"
   ]
  },
  {
   "cell_type": "code",
   "execution_count": 6,
   "id": "80b7a5b0",
   "metadata": {},
   "outputs": [],
   "source": [
    "logger.setLevel(logging.INFO)"
   ]
  },
  {
   "cell_type": "markdown",
   "id": "50d9d340",
   "metadata": {},
   "source": [
    "INFO теперь логгируется:"
   ]
  },
  {
   "cell_type": "code",
   "execution_count": 7,
   "id": "92c8ac5e",
   "metadata": {},
   "outputs": [
    {
     "name": "stderr",
     "output_type": "stream",
     "text": [
      "INFO [root]: Blah\n"
     ]
    }
   ],
   "source": [
    "logger.info('Blah')"
   ]
  },
  {
   "cell_type": "markdown",
   "id": "bbf9860e",
   "metadata": {},
   "source": [
    "# Функция для смены уровня логгирования"
   ]
  },
  {
   "cell_type": "code",
   "execution_count": 9,
   "id": "32a2faa8",
   "metadata": {},
   "outputs": [],
   "source": [
    "def log_level(new_level):\n",
    "    import sys\n",
    "    \n",
    "    level = getattr(logging, new_level.upper(), None)\n",
    "    if level is None:\n",
    "        print(\n",
    "            f'Level \"{new_level}\" is not supported. Use info, warn, etc..',\n",
    "            file=sys.stderr,\n",
    "        )\n",
    "    else:\n",
    "        logger.setLevel(level)"
   ]
  },
  {
   "cell_type": "code",
   "execution_count": 10,
   "id": "ab0f1d4c",
   "metadata": {},
   "outputs": [],
   "source": [
    "log_level('error')"
   ]
  },
  {
   "cell_type": "code",
   "execution_count": 11,
   "id": "42cc2eae",
   "metadata": {},
   "outputs": [],
   "source": [
    "logger.info('Blah')"
   ]
  },
  {
   "cell_type": "code",
   "execution_count": 12,
   "id": "2783bd39",
   "metadata": {
    "scrolled": true
   },
   "outputs": [
    {
     "name": "stderr",
     "output_type": "stream",
     "text": [
      "ERROR [root]: Minor\n"
     ]
    }
   ],
   "source": [
    "logger.error('Minor')"
   ]
  },
  {
   "cell_type": "markdown",
   "id": "99ba3bf8",
   "metadata": {},
   "source": [
    "## С функцией из расширения"
   ]
  },
  {
   "cell_type": "code",
   "execution_count": 1,
   "id": "be502330",
   "metadata": {},
   "outputs": [
    {
     "name": "stdout",
     "output_type": "stream",
     "text": [
      "Loading \"second\" extension\n"
     ]
    }
   ],
   "source": [
    "%load_ext second"
   ]
  },
  {
   "cell_type": "code",
   "execution_count": 2,
   "id": "5276bcd4",
   "metadata": {},
   "outputs": [],
   "source": [
    "import logging"
   ]
  },
  {
   "cell_type": "code",
   "execution_count": 3,
   "id": "189a0c6b",
   "metadata": {},
   "outputs": [],
   "source": [
    "logging.info('Blah')"
   ]
  },
  {
   "cell_type": "code",
   "execution_count": 4,
   "id": "0ece0599",
   "metadata": {},
   "outputs": [],
   "source": [
    "log_level('info')"
   ]
  },
  {
   "cell_type": "code",
   "execution_count": 5,
   "id": "d9f899d2",
   "metadata": {
    "scrolled": true
   },
   "outputs": [
    {
     "name": "stderr",
     "output_type": "stream",
     "text": [
      "INFO [root]: Try again\n"
     ]
    }
   ],
   "source": [
    "logging.info('Try again')"
   ]
  },
  {
   "cell_type": "markdown",
   "id": "9c9d070b",
   "metadata": {},
   "source": [
    "## С отдельными magic командами"
   ]
  },
  {
   "cell_type": "code",
   "execution_count": 1,
   "id": "a13fb1e8",
   "metadata": {},
   "outputs": [
    {
     "name": "stdout",
     "output_type": "stream",
     "text": [
      "Loading \"second\" extension\n"
     ]
    }
   ],
   "source": [
    "%load_ext second"
   ]
  },
  {
   "cell_type": "code",
   "execution_count": 2,
   "id": "59636c99",
   "metadata": {},
   "outputs": [],
   "source": [
    "import logging"
   ]
  },
  {
   "cell_type": "code",
   "execution_count": 3,
   "id": "d4379ba5",
   "metadata": {},
   "outputs": [],
   "source": [
    "logging.info('Blah')"
   ]
  },
  {
   "cell_type": "code",
   "execution_count": 4,
   "id": "f345c21c",
   "metadata": {},
   "outputs": [],
   "source": [
    "%info"
   ]
  },
  {
   "cell_type": "code",
   "execution_count": 5,
   "id": "75a4a34f",
   "metadata": {
    "scrolled": true
   },
   "outputs": [
    {
     "name": "stderr",
     "output_type": "stream",
     "text": [
      "INFO [root]: Try again\n"
     ]
    }
   ],
   "source": [
    "logging.info('Try again')"
   ]
  }
 ],
 "metadata": {
  "@webio": {
   "lastCommId": null,
   "lastKernelId": null
  },
  "kernelspec": {
   "display_name": "Python 3 (ipykernel)",
   "language": "python",
   "name": "python3"
  },
  "language_info": {
   "codemirror_mode": {
    "name": "ipython",
    "version": 3
   },
   "file_extension": ".py",
   "mimetype": "text/x-python",
   "name": "python",
   "nbconvert_exporter": "python",
   "pygments_lexer": "ipython3",
   "version": "3.9.5"
  }
 },
 "nbformat": 4,
 "nbformat_minor": 5
}
